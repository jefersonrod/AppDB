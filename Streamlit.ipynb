{
  "nbformat": 4,
  "nbformat_minor": 0,
  "metadata": {
    "colab": {
      "name": "Streamlit.ipynb",
      "provenance": [],
      "collapsed_sections": [],
      "include_colab_link": true
    },
    "kernelspec": {
      "name": "python3",
      "display_name": "Python 3"
    }
  },
  "cells": [
    {
      "cell_type": "markdown",
      "metadata": {
        "id": "view-in-github",
        "colab_type": "text"
      },
      "source": [
        "<a href=\"https://colab.research.google.com/github/jefersonrod/AppDB/blob/master/Streamlit.ipynb\" target=\"_parent\"><img src=\"https://colab.research.google.com/assets/colab-badge.svg\" alt=\"Open In Colab\"/></a>"
      ]
    },
    {
      "cell_type": "code",
      "metadata": {
        "id": "E4xP8X5-98o6",
        "colab_type": "code",
        "colab": {}
      },
      "source": [
        "# -*- coding: utf-8 -*-\n",
        "import pandas as pd\n",
        "import streamlit as st\n",
        "import altair as alt #https://altair-viz.github.io/"
      ],
      "execution_count": null,
      "outputs": []
    },
    {
      "cell_type": "code",
      "metadata": {
        "id": "RjAsi1cxuRfx",
        "colab_type": "code",
        "colab": {}
      },
      "source": [
        "@st.cache(allow_output_mutation=True)\n",
        "def get_df(type, by=\"global\"):\n",
        "    path = f\"https://raw.githubusercontent.com/CSSEGISandData/COVID-19/master/csse_covid_19_data/csse_covid_19_time_series/time_series_covid19_{type}_{by}.csv\"\n",
        "    df = pd.read_csv(path)\n",
        "    return get_country_df(df, type)"
      ],
      "execution_count": null,
      "outputs": []
    },
    {
      "cell_type": "code",
      "metadata": {
        "id": "7NQDJzsAuR49",
        "colab_type": "code",
        "colab": {}
      },
      "source": [
        "def get_country_df(df, type):\n",
        "    cols = [\"Lat\", \"Long\", \"Province/State\"]\n",
        "    df = df.drop(columns=cols).rename(columns={\"Country/Region\": \"country\"})\n",
        "    df[\"country\"] = df[\"country\"].replace({\"US\": \"United States\", \"Korea, South\": \"South Korea\"})\n",
        "    df = df.melt(id_vars=\"country\", var_name=\"date\", value_name=f\"total_{type}\".lower())\n",
        "    df[\"date\"] = pd.to_datetime(df[\"date\"])\n",
        "    df = df.set_index(\"date\").groupby(\"country\").resample(\"D\").sum().reset_index()\n",
        "    df[f\"daily_{type}\"] = df.groupby(\"country\")[f\"total_{type}\"].diff().fillna(0).clip(lower=0)\n",
        "    return df"
      ],
      "execution_count": null,
      "outputs": []
    },
    {
      "cell_type": "code",
      "metadata": {
        "id": "kq047Us8uVpJ",
        "colab_type": "code",
        "colab": {}
      },
      "source": [
        "def days_since(df, col, num=100, groupby=\"country\"):\n",
        "    df[\"days_since\"] = df.assign(t=df[col] >= num).groupby(groupby)[\"t\"].cumsum()\n",
        "    return df[df[\"days_since\"] > 0]"
      ],
      "execution_count": null,
      "outputs": []
    },
    {
      "cell_type": "code",
      "metadata": {
        "id": "SWhfn275uYmc",
        "colab_type": "code",
        "colab": {}
      },
      "source": [
        "def chart(df, y, color=\"country\"):\n",
        "    return (\n",
        "        alt.Chart(df, width=750, height=500)\n",
        "        .mark_line(point=True)\n",
        "        .encode(\n",
        "            x=\"days_since\",\n",
        "            y=alt.Y(y),\n",
        "            color=color,\n",
        "            tooltip=[alt.Tooltip(color), alt.Tooltip(y, format=\",\")],\n",
        "        )\n",
        "        .interactive()\n",
        "    )"
      ],
      "execution_count": null,
      "outputs": []
    },
    {
      "cell_type": "code",
      "metadata": {
        "id": "uvEhTh8PueSZ",
        "colab_type": "code",
        "colab": {}
      },
      "source": [
        "def main():\n",
        "    by = st.radio(\"Choose Analysis\", [\"Country\", \"State\"])\n",
        "    by = by.lower()\n",
        "\n",
        "    if by == \"country\":\n",
        "        confirmed_df = get_df(\"confirmed\", \"global\")\n",
        "        deaths_df = get_df(\"deaths\", \"global\")\n",
        "    else:\n",
        "        confirmed_df = get_df(\"confirmed\", \"US\")\n",
        "        deaths_df = get_df(\"deaths\", \"US\")\n",
        "\n",
        "    chart_type = st.radio(\"Choose Chart Type\", [\"Cumulative\", \"Daily\"])\n",
        "\n",
        "    num_confirmed = st.text_input(\"Number of Confirmed:\", 100)\n",
        "    confirmed_since_df = days_since(\n",
        "        confirmed_df, \"total_confirmed\", num=int(num_confirmed), groupby=by\n",
        "    )\n",
        "\n",
        "    top_5 = (\n",
        "        confirmed_since_df.groupby(by)[\"total_confirmed\"]\n",
        "        .max()\n",
        "        .sort_values(ascending=False)\n",
        "        .head(5)\n",
        "        .index.tolist()\n",
        "    )\n",
        "\n",
        "    select_all = confirmed_since_df[by].unique().tolist()\n",
        "    radio = st.radio(\"\", [\"Top 5\", \"Select All\"])\n",
        "\n",
        "    if radio == \"Top 5\":\n",
        "        multi = st.multiselect(\"\", select_all, default=top_5)\n",
        "    elif radio == \"Select All\":\n",
        "        multi = st.multiselect(\"\", select_all, default=select_all)\n",
        "\n",
        "    confirmed_since_df = confirmed_since_df[confirmed_since_df[by].isin(multi)]\n",
        "\n",
        "    st.markdown(f\"## Confirmed cases by days since {num_confirmed} confirmed 😷\")\n",
        "    if chart_type == \"Cumulative\":\n",
        "        st.altair_chart(chart(confirmed_since_df, \"total_confirmed\", color=by))\n",
        "    else:\n",
        "        st.altair_chart(chart(confirmed_since_df, \"daily_confirmed\", color=by))\n",
        "\n",
        "    num_deaths = st.text_input(\"Number of Death(s):\", 1)\n",
        "    deaths_since_df = days_since(deaths_df, \"total_deaths\", num=int(num_deaths), groupby=by)\n",
        "    deaths_since_df = deaths_since_df[deaths_since_df[by].isin(multi)]\n",
        "\n",
        "    st.markdown(f\"## Deaths by days since {num_deaths} death(s)\")\n",
        "    if chart_type == \"Cumulative\":\n",
        "        st.altair_chart(chart(deaths_since_df, \"total_deaths\", color=by))\n",
        "    else:\n",
        "        st.altair_chart(chart(deaths_since_df, \"daily_deaths\", color=by))\n",
        "\n",
        "    st.markdown(\"## Totals\")\n",
        "    df = (\n",
        "        pd.concat(\n",
        "            [\n",
        "                confirmed_df.groupby(by)[\"total_confirmed\"].max(),\n",
        "                deaths_df.groupby(by)[\"total_deaths\"].max(),\n",
        "            ],\n",
        "            axis=1,\n",
        "        )\n",
        "        .sort_values(\"total_deaths\", ascending=False)\n",
        "        .style.format(\"{:,}\")\n",
        "    )\n",
        "\n",
        "    st.dataframe(df)"
      ],
      "execution_count": null,
      "outputs": []
    },
    {
      "cell_type": "code",
      "metadata": {
        "id": "8PJkW47cugcd",
        "colab_type": "code",
        "colab": {}
      },
      "source": [
        "if __name__ == \"__main__\":\n",
        "    st.title(\"COVID-19 🦠\")\n",
        "    main()"
      ],
      "execution_count": null,
      "outputs": []
    }
  ]
}