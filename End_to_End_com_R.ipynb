{
  "nbformat": 4,
  "nbformat_minor": 0,
  "metadata": {
    "colab": {
      "name": "End-to-End-com-R.ipynb",
      "provenance": [],
      "private_outputs": true,
      "collapsed_sections": [],
      "include_colab_link": true
    },
    "kernelspec": {
      "name": "ir",
      "display_name": "R"
    },
    "accelerator": "TPU"
  },
  "cells": [
    {
      "cell_type": "markdown",
      "metadata": {
        "id": "view-in-github",
        "colab_type": "text"
      },
      "source": [
        "<a href=\"https://colab.research.google.com/github/jefersonrod/AppDB/blob/master/End_to_End_com_R.ipynb\" target=\"_parent\"><img src=\"https://colab.research.google.com/assets/colab-badge.svg\" alt=\"Open In Colab\"/></a>"
      ]
    },
    {
      "cell_type": "markdown",
      "metadata": {
        "id": "MFA9Wpf2es2z",
        "colab_type": "text"
      },
      "source": [
        "#R: o básico\n",
        "\n",
        "---\n",
        "\n",
        "Vantagens R:\n",
        "* Open-Source: gratuito e com comunidade cada vez maior e mais ativa;\n",
        "* Com uma grande comunidade por conta do fenômeno Open Source, surgem milhares de bibliotecas gratuitas para uso;\n",
        "* Multi-plataforma: Windows, Mac, Linux…\n",
        "* Já falamos que é requisito para a “profissão mais sexy do século” ?<br><br>\n",
        "![Ranking das Linguagens de Programação e suas aplicações do IEE SPECTRUM\n",
        "](https://secureservercdn.net/198.71.233.197/o9y.9a5.myftpupload.com/wp-content/uploads/ranking-linguagens.png)\n",
        "* R MARKDOWN + Shiny https://r4ds.had.co.nz/"
      ]
    },
    {
      "cell_type": "markdown",
      "metadata": {
        "id": "TgiF-uHGHh7J",
        "colab_type": "text"
      },
      "source": [
        "## AMBIENTE DE DESENVOLVIMENTO\n",
        "\n",
        "---\n",
        "\n",
        "\n",
        "* ANACONDA em https://www.anaconda.com/distribution/\n",
        "* Efetue download/instalação do R em https://cloud.r-project.org/\n",
        "\n",
        "* Efetue download/instalação do RStudio(IDE para programarmos com R) em https://www.rstudio.com/products/rstudio/download/\n",
        "* Novo projeto R com Colab https://colab.research.google.com/notebook#create=true&language=r"
      ]
    },
    {
      "cell_type": "markdown",
      "metadata": {
        "id": "OqSUrY-FH28S",
        "colab_type": "text"
      },
      "source": [
        "## Declarando variáveis, comentando código e printando na tela:\n",
        "\n",
        "---\n",
        "\n",
        "\n",
        "\n",
        "* Declare variáveis com = ou <-\n",
        "* Utilize # para comentar linhas\n",
        "* Utilize print() para executar na tela\n",
        "* Utilize readline(prompt=”…”) para receber texto(inputs)"
      ]
    },
    {
      "cell_type": "code",
      "metadata": {
        "id": "Gr_1ILjCeWH9",
        "colab_type": "code",
        "colab": {}
      },
      "source": [
        "# Você pode declarar variáveis utilizando \"=\" ou \"<-\"\n",
        "x = \"Hello Qoda!\"\n",
        "y <- \"Hello Qoda!\""
      ],
      "execution_count": null,
      "outputs": []
    },
    {
      "cell_type": "code",
      "metadata": {
        "id": "pUCa5OQMIEkQ",
        "colab_type": "code",
        "colab": {}
      },
      "source": [
        "z = readline(\"Qual é o seu nome?\")\n",
        "print(z)"
      ],
      "execution_count": null,
      "outputs": []
    },
    {
      "cell_type": "markdown",
      "metadata": {
        "id": "slLoTwq6IJG6",
        "colab_type": "text"
      },
      "source": [
        "## Tipos de Dados(básicos)\n",
        "\n",
        "* Character(“Texto”)\n",
        "Neste tipo inserimos caracteres, podendo ser números, textos, símbolos…;\n",
        "* Integer (1L)\n",
        "Integer se refere a números inteiros e utilizamos o “L” para determina-lo, diferente do Numeric, onde os números são decimais: 1.0 e não 1;\n",
        "* Numeric (7.25)\n",
        "Números decimais, mesmo que declarando-os como 12, o sistema retornará 12.0, por exemplo.\n",
        "* Logical (T/F ou TRUE/FALSE)\n",
        "Tipo de dado com retorno TRUE ou FALSE, assim como T ou F. TRUE quando atendidas as condições e FALSE quando não atendidas. Nos aprofundaremos logo logo neste tipo de dado: tenha paciência."
      ]
    },
    {
      "cell_type": "code",
      "metadata": {
        "id": "0JdR58JFIOgS",
        "colab_type": "code",
        "colab": {}
      },
      "source": [
        "caract = \"Texto caractere\"\n",
        "class(caract) \n",
        "#retorna 'character'"
      ],
      "execution_count": null,
      "outputs": []
    },
    {
      "cell_type": "code",
      "metadata": {
        "id": "gzFQ8Pb1IRWe",
        "colab_type": "code",
        "colab": {}
      },
      "source": [
        "inteiro = 15L\n",
        "class(inteiro) \n",
        "#retorna 'integer'"
      ],
      "execution_count": null,
      "outputs": []
    },
    {
      "cell_type": "code",
      "metadata": {
        "id": "DXnYjfgkITZX",
        "colab_type": "code",
        "colab": {}
      },
      "source": [
        "num = 15\n",
        "class(num)\n",
        "#retorna 'numeric'"
      ],
      "execution_count": null,
      "outputs": []
    },
    {
      "cell_type": "code",
      "metadata": {
        "id": "W-uYmwPpIVnZ",
        "colab_type": "code",
        "colab": {}
      },
      "source": [
        "logic = T\n",
        "class(logic)\n",
        "#retorna 'logical'"
      ],
      "execution_count": null,
      "outputs": []
    },
    {
      "cell_type": "markdown",
      "metadata": {
        "id": "vh9BiZqqId68",
        "colab_type": "text"
      },
      "source": [
        "## Estruturas de Dados\n",
        "\n",
        "---\n",
        "\n"
      ]
    },
    {
      "cell_type": "code",
      "metadata": {
        "id": "4cexPoruIfRj",
        "colab_type": "code",
        "colab": {}
      },
      "source": [
        "# VETOR \n",
        "\n",
        "vec = 3\n",
        "is.vector(vec) #Retorna TRUE"
      ],
      "execution_count": null,
      "outputs": []
    },
    {
      "cell_type": "code",
      "metadata": {
        "id": "L6Dz4hDbIjno",
        "colab_type": "code",
        "colab": {}
      },
      "source": [
        "# Para adicionar diversos elementos em 1 vetor, use c()\n",
        "vec = c(1,2,3,\"texto\")\n",
        "class(vec) #retorna character pois todos elementos serão do mesmo tipo"
      ],
      "execution_count": null,
      "outputs": []
    },
    {
      "cell_type": "markdown",
      "metadata": {
        "id": "QwzgtP_LIno1",
        "colab_type": "text"
      },
      "source": [
        "## LISTA \n",
        "\n",
        "\n",
        "---\n",
        "\n"
      ]
    },
    {
      "cell_type": "code",
      "metadata": {
        "id": "KaI8FFkyIpHa",
        "colab_type": "code",
        "colab": {}
      },
      "source": [
        "x = c(\"texto1\",\"texto2\")\n",
        "y =  c(1,2,3)\n",
        "z = c(T,F,T)\n",
        "lista = c(x,y,z) \n",
        "lista\n",
        "#retorna: 'texto1' 'texto2' '1' '2' '3' 'TRUE' 'FALSE' 'TRUE'"
      ],
      "execution_count": null,
      "outputs": []
    },
    {
      "cell_type": "markdown",
      "metadata": {
        "id": "S8uF3u6mIuI-",
        "colab_type": "text"
      },
      "source": [
        "## MATRIZ \n",
        "\n",
        "\n",
        "\n",
        "---\n",
        "\n"
      ]
    },
    {
      "cell_type": "code",
      "metadata": {
        "id": "uXrnFM3mIvhs",
        "colab_type": "code",
        "colab": {}
      },
      "source": [
        "mat = matrix(c(1,2),nrow=1,ncol=2,byrow = TRUE) \n",
        "#nrow se refere ao número de colunas e ncol se refere ao número de linhas\n",
        "#byrow insere os elementos dentro de linhas quando TRUE ou em colunas, quando FALSE\n",
        "#retorna: 1 2\n",
        "mat"
      ],
      "execution_count": null,
      "outputs": []
    },
    {
      "cell_type": "markdown",
      "metadata": {
        "id": "PUVs_y0jI1DI",
        "colab_type": "text"
      },
      "source": [
        "## DATAFRAME (estrutura para armazenar em forma de tabela)\n",
        "\n",
        "\n",
        "\n",
        "---\n",
        "\n"
      ]
    },
    {
      "cell_type": "code",
      "metadata": {
        "id": "MezU5NWmI6b4",
        "colab_type": "code",
        "colab": {}
      },
      "source": [
        "x = data.frame(nome = c(\"Ana\",\"Weber\",\"Aquiles\"),\n",
        "               idade = c(24L,27L,2L),\n",
        "               salario = c(12000,0,0))\n",
        "#nrow(x) #retorna número de linhas do dataframe\n",
        "#ncol(x) #retorna número de colunas do dataframe\n",
        "dim(x) #retorna número de linhas e colunas"
      ],
      "execution_count": null,
      "outputs": []
    },
    {
      "cell_type": "markdown",
      "metadata": {
        "id": "YjcENDC6JAUo",
        "colab_type": "text"
      },
      "source": [
        "## CONDICIONAIS\n",
        "\n",
        "\n",
        "---\n",
        "\n"
      ]
    },
    {
      "cell_type": "code",
      "metadata": {
        "id": "-Q4pDuD2JBvG",
        "colab_type": "code",
        "colab": {}
      },
      "source": [
        "if (3 > 0) {\n",
        " \n",
        "    print(\"3 é maior que 0\")\n",
        " \n",
        "}"
      ],
      "execution_count": null,
      "outputs": []
    },
    {
      "cell_type": "code",
      "metadata": {
        "id": "TsX0bUJYJHgj",
        "colab_type": "code",
        "colab": {}
      },
      "source": [
        "if (3 == 0) {\n",
        " \n",
        "  print(\"3 = 0\")\n",
        " \n",
        "} else {\n",
        " \n",
        "    print(\"3 não é igual a 0\")\n",
        " \n",
        "}"
      ],
      "execution_count": null,
      "outputs": []
    },
    {
      "cell_type": "code",
      "metadata": {
        "id": "aN8MRLPfJLg-",
        "colab_type": "code",
        "colab": {}
      },
      "source": [
        "a = 1\n",
        "b = 2\n",
        "ifelse(a>0,\"A maior que 0\",\"A menor que 0\")\n",
        "#retorna A maior que 0"
      ],
      "execution_count": null,
      "outputs": []
    },
    {
      "cell_type": "markdown",
      "metadata": {
        "id": "NthXxmE8JPoX",
        "colab_type": "text"
      },
      "source": [
        "## FUNÇÕES\n",
        "\n",
        "---\n",
        "\n"
      ]
    },
    {
      "cell_type": "code",
      "metadata": {
        "id": "EKYoAmaDJRPW",
        "colab_type": "code",
        "colab": {}
      },
      "source": [
        "# FUNÇÕES R BASE\n",
        "x = c(1,2,3,4,5,6,7,8,9,10)\n",
        "#sd(x) #desvio padrão\n",
        "#mean(x) #média\n",
        "#head(iris) #primeiras linhas dataframe\n",
        "#tail(iris) #ultimas linhas dataframe\n",
        "file.choose() #abre pasta para caminho de arquivos"
      ],
      "execution_count": null,
      "outputs": []
    },
    {
      "cell_type": "code",
      "metadata": {
        "id": "Hthool_VJW5Y",
        "colab_type": "code",
        "colab": {}
      },
      "source": [
        "raizquadrada = function(x) {\n",
        "  return(x*x)\n",
        "}\n",
        "raizquadrada(23412341)"
      ],
      "execution_count": null,
      "outputs": []
    },
    {
      "cell_type": "markdown",
      "metadata": {
        "id": "YTt-PzepJdUI",
        "colab_type": "text"
      },
      "source": [
        "## PACOTES\n",
        "\n",
        "---\n",
        "\n"
      ]
    },
    {
      "cell_type": "code",
      "metadata": {
        "id": "ay9fB-x2Jet8",
        "colab_type": "code",
        "colab": {}
      },
      "source": [
        "#Instala pacote\n",
        "install.packages(\"ggplot2\", dependencies=TRUE)\n",
        "\n",
        "# Carrega pacote para ser utilizado no código\n",
        "library(ggplot2)"
      ],
      "execution_count": null,
      "outputs": []
    },
    {
      "cell_type": "markdown",
      "metadata": {
        "id": "VjAMdzVfe0hz",
        "colab_type": "text"
      },
      "source": [
        "# END TO END: Sistema especialista de Carreiras em R!\n",
        "![texto alternativo](https://i.ibb.co/YbTxj3L/shiny.png)"
      ]
    },
    {
      "cell_type": "code",
      "metadata": {
        "id": "63WuVlYrCxHr",
        "colab_type": "code",
        "colab": {}
      },
      "source": [
        "# Pacotes\n",
        "install.packages(\"shiny\")\n",
        "install.packages(\"sets\")\n",
        "\n",
        "library(shiny)\n",
        "library(sets)"
      ],
      "execution_count": null,
      "outputs": []
    },
    {
      "cell_type": "code",
      "metadata": {
        "id": "mLSEIAshC9e5",
        "colab_type": "code",
        "colab": {}
      },
      "source": [
        "# Define Universo\n",
        "sets_options(\"universe\", seq(1,100, 1))"
      ],
      "execution_count": null,
      "outputs": []
    },
    {
      "cell_type": "code",
      "metadata": {
        "id": "oWd5PkitDA8b",
        "colab_type": "code",
        "colab": {}
      },
      "source": [
        "#criacao de variaveis\n",
        "variaveis <- set(\n",
        "  Domina_Python = fuzzy_partition(varnames = c( gemin  = 5, gemen = 15, gemed = 50, gemaior=75, gemax=90), sd = 10),\n",
        "  Domina_R = fuzzy_partition(varnames = c( rimin  = 30, rimen = 35, rimed = 55, rimaior=75,rimax=85), sd = 10),\n",
        "  AnaliseDeDados = fuzzy_partition(varnames = c( ecmin  = 10, ecmen = 25, ecmed = 50, ecmaior=75,ecmax=95),  sd = 10),\n",
        "  Matematica = fuzzy_partition(varnames = c( plmin  = 30, plmen = 50, plmed = 70, plmaior=90,plmax=95), sd=10),\n",
        "  Gosta_Estudar = fuzzy_partition(varnames = c( gsmin  = 20, gsmen = 40, gsmed = 60, gsmaior=80,gsmax=90), sd=10),\n",
        "  MachineLearning = fuzzy_partition(varnames = c( hcmin  = 40, hcmen = 50, hcmed = 60, hcmaior=70, hcmax=75), sd=10),\n",
        "  Classificacao = fuzzy_partition(varnames = c( baixa  = 10, media = 50, alta = 75, altissima=95), sd=10)\n",
        ")"
      ],
      "execution_count": null,
      "outputs": []
    },
    {
      "cell_type": "code",
      "metadata": {
        "id": "_yLUBBOKDDFy",
        "colab_type": "code",
        "colab": {}
      },
      "source": [
        "#definicao das regras\n",
        "regras <-\n",
        "  set(\n",
        "    fuzzy_rule( Domina_Python %is%\tgemax\t&& Domina_R %is%\trimin\t&& AnaliseDeDados %is%\tecmax\t&& Matematica %is%\tplmin\t&& Gosta_Estudar %is%\tgsmax\t&& MachineLearning %is%\thcmin\t, Classificacao %is%\taltissima\t),\n",
        "    fuzzy_rule( Domina_Python %is%\tgemax\t&& Domina_R %is%\trimen\t&& AnaliseDeDados %is%\tecmaior\t&& Matematica %is%\tplmin\t&& Gosta_Estudar %is%\tgsmax\t&& MachineLearning %is%\thcmen\t, Classificacao %is%\taltissima\t),\n",
        "    fuzzy_rule( Domina_Python %is%\tgemaior\t&& Domina_R %is%\trimen\t&& AnaliseDeDados %is%\tecmaior\t&& Matematica %is%\tplmin\t&& Gosta_Estudar %is%\tgsmax\t&& MachineLearning %is%\thcmed\t, Classificacao %is%\taltissima\t),\n",
        "    fuzzy_rule( Domina_Python %is%\tgemaior\t&& Domina_R %is%\trimen\t&& AnaliseDeDados %is%\tecmaior\t&& Matematica %is%\tplmen\t&& Gosta_Estudar %is%\tgsmaior\t&& MachineLearning %is%\thcmed\t, Classificacao %is%\talta\t),\n",
        "    fuzzy_rule( Domina_Python %is%\tgemaior\t&& Domina_R %is%\t rimed\t&& AnaliseDeDados %is%\tecmed\t&& Matematica %is%\tplmed\t&& Gosta_Estudar %is%\tgsmaior\t&& MachineLearning %is%\thcmaior\t, Classificacao %is%\talta\t),\n",
        "    fuzzy_rule( Domina_Python %is%\tgemaior\t&& Domina_R %is%\t rimed\t&& AnaliseDeDados %is%\tecmed\t&& Matematica %is%\tplmaior\t&& Gosta_Estudar %is%\tgsmaior\t&& MachineLearning %is%\thcmaior\t, Classificacao %is%\talta\t),\n",
        "    fuzzy_rule( Domina_Python %is%\tgemed\t&& Domina_R %is%\trimaior\t&& AnaliseDeDados %is%\tecmen\t&& Matematica %is%\tplmaior\t&& Gosta_Estudar %is%\tgsmed\t&& MachineLearning %is%\thcmaior\t, Classificacao %is%\tmedia\t),\n",
        "    fuzzy_rule( Domina_Python %is%\tgemed\t&& Domina_R %is%\trimaior\t&& AnaliseDeDados %is%\tecmen\t&& Matematica %is%\tplmaior\t&& Gosta_Estudar %is%\tgsmed\t&& MachineLearning %is%\thcmax\t, Classificacao %is%\tmedia\t),\n",
        "    fuzzy_rule( Domina_Python %is%\tgemen\t&& Domina_R %is%\trimax\t&& AnaliseDeDados %is%\tecmin\t&& Matematica %is%\tplmax\t&& Gosta_Estudar %is%\tgsmed\t&& MachineLearning %is%\thcmax\t, Classificacao %is%\tmedia\t),\n",
        "    fuzzy_rule( Domina_Python %is%\tgemen\t&& Domina_R %is%\trimax\t&& AnaliseDeDados %is%\tecmin\t&& Matematica %is%\tplmax\t&& Gosta_Estudar %is%\tgsmen\t&& MachineLearning %is%\thcmax\t, Classificacao %is%\tbaixa\t),\n",
        "    fuzzy_rule( Domina_Python %is%\tgemin\t&& Domina_R %is%\trimax\t&& AnaliseDeDados %is%\tecmin\t&& Matematica %is%\tplmax\t&& Gosta_Estudar %is%\tgsmen\t&& MachineLearning %is%\thcmax\t, Classificacao %is%\tbaixa\t),\n",
        "    fuzzy_rule( Domina_Python %is%\tgemin\t&& Domina_R %is%\trimax\t&& AnaliseDeDados %is%\tecmin\t&& Matematica %is%\tplmax\t&& Gosta_Estudar %is%\tgsmin\t&& MachineLearning %is%\thcmax\t, Classificacao %is%\tbaixa\t)\n",
        "   )"
      ],
      "execution_count": null,
      "outputs": []
    },
    {
      "cell_type": "code",
      "metadata": {
        "id": "t22DE-SlDGCk",
        "colab_type": "code",
        "colab": {}
      },
      "source": [
        "sistema <- fuzzy_system(variaveis, regras)"
      ],
      "execution_count": null,
      "outputs": []
    },
    {
      "cell_type": "code",
      "metadata": {
        "id": "y8qDSTuVDJBM",
        "colab_type": "code",
        "colab": {}
      },
      "source": [
        "ui <- fluidPage(theme = \"bootstrap.css\",\n",
        "\n",
        "   titlePanel(\"Aderência DATA SCIENCE\"),\n",
        "   helpText(\"Modifique os valores e clique em processar\"),\n",
        "\n",
        "   fluidRow(\n",
        "     column(4,sliderInput(\"python\", \"Python\",min = 5, max = 90,step = 10,value = 40)),\n",
        "     column(4,sliderInput(\"r\", \"R\",min = 30, max = 85,step = 5,value = 50)),\n",
        "     column(4,sliderInput(\"analisedados\", \"Análise de dados\",min = 10, max = 95,step = 5,value = 40))   \n",
        "     ),\n",
        "   fluidRow(\n",
        "     column(4,sliderInput(\"mat\", \"Matemática\",min = 30, max = 95,step =5,value = 50)),\n",
        "     column(4,sliderInput(\"sestudar\", \"Gosta de Estudar\",min = 20, max = 90,step = 10,value = 40)),\n",
        "     column(4,sliderInput(\"ml\", \"Machine Learning\",min = 40, max = 75,step = 5,value = 50 ))\n",
        "   ),\n",
        "   fluidRow(\n",
        "     column(6,h1(\"Sistema:\"), plotOutput(\"GrafSistema\")),\n",
        "     column(6,actionButton(\"Processar\",\"Processar\"),\n",
        "            helpText(\"A Linha Vermelha Mostra a sua Aderência a Profissião de Cientista de Dados\"),\n",
        "            plotOutput(\"GrafResultado\")  \n",
        "    )\n",
        "   )\n",
        ")"
      ],
      "execution_count": null,
      "outputs": []
    },
    {
      "cell_type": "code",
      "metadata": {
        "id": "JIbx0HvCDMIE",
        "colab_type": "code",
        "colab": {}
      },
      "source": [
        "server <- function(input, output) {\n",
        "   \n",
        "  output$GrafSistema <- renderPlot({ plot(sistema)  })\n",
        "  observeEvent(input$Processar, {\n",
        "    inferencia <- fuzzy_inference(sistema, list(Domina_Python  = input$python , Domina_R = input$r, AnaliseDeDados = input$analisedados, Matematica = input$mat,  Gosta_Estudar=input$sestudar, MachineLearning=input$ml ))\n",
        "    output$GrafResultado <- renderPlot({ \n",
        "      \n",
        "   plot(sistema$variables$Classificacao)\n",
        "   lines(inferencia, col = \"blue\", lwd=4) \n",
        "   })\n",
        "})\n",
        "}"
      ],
      "execution_count": null,
      "outputs": []
    },
    {
      "cell_type": "code",
      "metadata": {
        "id": "yctVPTaaDNQO",
        "colab_type": "code",
        "colab": {}
      },
      "source": [
        "shinyApp(ui = ui, server = server)"
      ],
      "execution_count": null,
      "outputs": []
    }
  ]
}